{
 "cells": [
  {
   "cell_type": "code",
   "execution_count": 63,
   "metadata": {},
   "outputs": [],
   "source": [
    "import pandas as pd\n",
    "from sklearn.model_selection import train_test_split, StratifiedKFold, cross_val_score\n",
    "from sklearn.feature_extraction.text import TfidfVectorizer\n",
    "from nltk.tokenize import RegexpTokenizer\n",
    "\n",
    "from sklearn.naive_bayes import MultinomialNB\n",
    "from sklearn.linear_model import LogisticRegression\n",
    "from sklearn.tree import DecisionTreeClassifier\n",
    "from sklearn.neighbors import KNeighborsClassifier\n",
    "\n",
    "from sklearn import metrics"
   ]
  },
  {
   "cell_type": "code",
   "execution_count": 50,
   "metadata": {},
   "outputs": [],
   "source": [
    "data = pd.read_csv(\"news.csv\")"
   ]
  },
  {
   "cell_type": "code",
   "execution_count": 51,
   "metadata": {},
   "outputs": [
    {
     "name": "stdout",
     "output_type": "stream",
     "text": [
      "   Unnamed: 0                                              title  \\\n",
      "0        8476                       You Can Smell Hillary’s Fear   \n",
      "1       10294  Watch The Exact Moment Paul Ryan Committed Pol...   \n",
      "2        3608        Kerry to go to Paris in gesture of sympathy   \n",
      "3       10142  Bernie supporters on Twitter erupt in anger ag...   \n",
      "4         875   The Battle of New York: Why This Primary Matters   \n",
      "\n",
      "                                                text label  \n",
      "0  Daniel Greenfield, a Shillman Journalism Fello...  FAKE  \n",
      "1  Google Pinterest Digg Linkedin Reddit Stumbleu...  FAKE  \n",
      "2  U.S. Secretary of State John F. Kerry said Mon...  REAL  \n",
      "3  — Kaydee King (@KaydeeKing) November 9, 2016 T...  FAKE  \n",
      "4  It's primary day in New York and front-runners...  REAL  \n",
      "Unnamed: 0     int64\n",
      "title         object\n",
      "text          object\n",
      "label         object\n",
      "dtype: object\n",
      "(6335, 4)\n",
      "False\n"
     ]
    }
   ],
   "source": [
    "print(data.head())\n",
    "print(data.dtypes)\n",
    "print(data.shape)\n",
    "print(data.isna().values.any())"
   ]
  },
  {
   "cell_type": "code",
   "execution_count": 52,
   "metadata": {},
   "outputs": [
    {
     "name": "stdout",
     "output_type": "stream",
     "text": [
      "      id                                              title  \\\n",
      "0   8476                       You Can Smell Hillary’s Fear   \n",
      "1  10294  Watch The Exact Moment Paul Ryan Committed Pol...   \n",
      "2   3608        Kerry to go to Paris in gesture of sympathy   \n",
      "3  10142  Bernie supporters on Twitter erupt in anger ag...   \n",
      "4    875   The Battle of New York: Why This Primary Matters   \n",
      "\n",
      "                                               texts target  \n",
      "0  Daniel Greenfield, a Shillman Journalism Fello...   FAKE  \n",
      "1  Google Pinterest Digg Linkedin Reddit Stumbleu...   FAKE  \n",
      "2  U.S. Secretary of State John F. Kerry said Mon...   REAL  \n",
      "3  — Kaydee King (@KaydeeKing) November 9, 2016 T...   FAKE  \n",
      "4  It's primary day in New York and front-runners...   REAL  \n"
     ]
    }
   ],
   "source": [
    "data.columns = ['id','title','texts', 'target']\n",
    "print(data.head())"
   ]
  },
  {
   "cell_type": "code",
   "execution_count": 53,
   "metadata": {},
   "outputs": [
    {
     "name": "stdout",
     "output_type": "stream",
     "text": [
      "0    FAKE\n",
      "1    FAKE\n",
      "2    REAL\n",
      "3    FAKE\n",
      "4    REAL\n",
      "Name: target, dtype: object\n",
      "0                         You Can Smell Hillary’s Fear\n",
      "1    Watch The Exact Moment Paul Ryan Committed Pol...\n",
      "2          Kerry to go to Paris in gesture of sympathy\n",
      "3    Bernie supporters on Twitter erupt in anger ag...\n",
      "4     The Battle of New York: Why This Primary Matters\n",
      "Name: title, dtype: object\n",
      "0    Daniel Greenfield, a Shillman Journalism Fello...\n",
      "1    Google Pinterest Digg Linkedin Reddit Stumbleu...\n",
      "2    U.S. Secretary of State John F. Kerry said Mon...\n",
      "3    — Kaydee King (@KaydeeKing) November 9, 2016 T...\n",
      "4    It's primary day in New York and front-runners...\n",
      "Name: texts, dtype: object\n",
      "0     8476\n",
      "1    10294\n",
      "2     3608\n",
      "3    10142\n",
      "4      875\n",
      "Name: id, dtype: int64\n"
     ]
    }
   ],
   "source": [
    "print(data.target.head())\n",
    "print(data.title.head())\n",
    "print(data.texts.head())\n",
    "print(data.id.head())"
   ]
  },
  {
   "cell_type": "code",
   "execution_count": 54,
   "metadata": {},
   "outputs": [
    {
     "data": {
      "text/plain": [
       "Text(0, 0.5, 'total text')"
      ]
     },
     "execution_count": 54,
     "metadata": {},
     "output_type": "execute_result"
    },
    {
     "data": {
      "image/png": "[encoded data removed]",
      "text/plain": [
       "<Figure size 432x288 with 1 Axes>"
      ]
     },
     "metadata": {
      "needs_background": "light"
     },
     "output_type": "display_data"
    }
   ],
   "source": [
    "target_count = data.groupby(\"target\").count()\n",
    "plt.bar(target_count.index.values, target_count[\"texts\"])\n",
    "plt.xlabel('target')\n",
    "plt.ylabel('total text')"
   ]
  },
  {
   "cell_type": "code",
   "execution_count": 56,
   "metadata": {},
   "outputs": [],
   "source": [
    "x_train, x_test, y_train, y_test = train_test_split(data['texts'], data['target'], test_size = 0.2, random_state = 1)"
   ]
  },
  {
   "cell_type": "code",
   "execution_count": 57,
   "metadata": {},
   "outputs": [
    {
     "name": "stdout",
     "output_type": "stream",
     "text": [
      "  (0, 193870)\t0.03191597523653359\n",
      "  (0, 38068)\t0.03191597523653359\n",
      "  (0, 683897)\t0.017294344514775392\n",
      "  (0, 478314)\t0.025322735750700896\n",
      "  (0, 202994)\t0.03191597523653359\n",
      "  (0, 819156)\t0.03191597523653359\n",
      "  (0, 67876)\t0.03191597523653359\n",
      "  (0, 247272)\t0.03191597523653359\n",
      "  (0, 411602)\t0.030487764182023893\n",
      "  (0, 543819)\t0.03191597523653359\n",
      "  (0, 1306572)\t0.03191597523653359\n",
      "  (0, 1243393)\t0.025604678333789297\n",
      "  (0, 368371)\t0.024377802183003738\n",
      "  (0, 472304)\t0.01803214011140012\n",
      "  (0, 766100)\t0.024591346464181697\n",
      "  (0, 1266174)\t0.028688431050269494\n",
      "  (0, 962706)\t0.02750324061521528\n",
      "  (0, 1556114)\t0.030487764182023893\n",
      "  (0, 1590366)\t0.029474432312416296\n",
      "  (0, 139594)\t0.03191597523653359\n",
      "  (0, 274519)\t0.03191597523653359\n",
      "  (0, 1351054)\t0.028046221257906595\n",
      "  (0, 1267317)\t0.03191597523653359\n",
      "  (0, 1504841)\t0.03191597523653359\n",
      "  (0, 1490932)\t0.03191597523653359\n",
      "  :\t:\n",
      "  (6334, 1019971)\t0.014647825692911832\n",
      "  (6334, 1554836)\t0.009140332061938752\n",
      "  (6334, 947108)\t0.00950524417091795\n",
      "  (6334, 781173)\t0.009848748116182669\n",
      "  (6334, 1213230)\t0.009635154335482548\n",
      "  (6334, 1191129)\t0.023129709807299302\n",
      "  (6334, 103712)\t0.015921283154242145\n",
      "  (6334, 1447289)\t0.007677294610023835\n",
      "  (6334, 401408)\t0.012205461924515364\n",
      "  (6334, 611059)\t0.009395580532736786\n",
      "  (6334, 808112)\t0.011558145888053378\n",
      "  (6334, 1407045)\t0.0591989975236563\n",
      "  (6334, 1475429)\t0.23872917043519729\n",
      "  (6334, 881721)\t0.021515923635943422\n",
      "  (6334, 127685)\t0.03996235016459761\n",
      "  (6334, 126314)\t0.026852029528113098\n",
      "  (6334, 765290)\t0.015409022084844466\n",
      "  (6334, 1025239)\t0.00730584880125645\n",
      "  (6334, 1013544)\t0.020740289054277168\n",
      "  (6334, 1061653)\t0.009621995083056032\n",
      "  (6334, 1235180)\t0.13171429947978885\n",
      "  (6334, 1546834)\t0.011615490436730797\n",
      "  (6334, 274160)\t0.008958822877503212\n",
      "  (6334, 664778)\t0.009290534298094106\n",
      "  (6334, 945071)\t0.03727171106058436\n"
     ]
    }
   ],
   "source": [
    "token = RegexpTokenizer(r'[a-zA-Z0-9]+')\n",
    "cv = TfidfVectorizer(lowercase = True, stop_words = 'english', ngram_range = (1,2), tokenizer = token.tokenize)\n",
    "x_train = cv.fit_transform(x_train)\n",
    "x_test = cv.transform(x_test)\n",
    "print(texts)"
   ]
  },
  {
   "cell_type": "code",
   "execution_count": 58,
   "metadata": {},
   "outputs": [
    {
     "name": "stdout",
     "output_type": "stream",
     "text": [
      "LR: 0.904684 (0.014013)\n",
      "KNN: 0.521512 (0.006210)\n",
      "CART: 0.819646 (0.021629)\n",
      "MNB: 0.799326 (0.012993)\n"
     ]
    }
   ],
   "source": [
    "\n",
    "# Spot Check Algorithms\n",
    "models = []\n",
    "models.append(('LR', LogisticRegression(solver='liblinear', multi_class='ovr').fit(x_train, y_train)))\n",
    "models.append(('KNN', KNeighborsClassifier().fit(x_train, y_train)))\n",
    "models.append(('CART', DecisionTreeClassifier().fit(x_train, y_train)))\n",
    "models.append(('MNB',MultinomialNB().fit(x_train, y_train)))\n",
    "# evaluate each model in turn\n",
    "results = []\n",
    "names = []\n",
    "for name, model in models:\n",
    "    kfold = StratifiedKFold(n_splits=10, random_state=1, shuffle=True)\n",
    "    cv_results = cross_val_score(model, x_train, y_train, cv=kfold, scoring='accuracy')\n",
    "    results.append(cv_results)\n",
    "    names.append(name)\n",
    "    print('%s: %f (%f)' % (name, cv_results.mean(), cv_results.std()))"
   ]
  },
  {
   "cell_type": "code",
   "execution_count": 59,
   "metadata": {},
   "outputs": [
    {
     "data": {
      "image/png": "[encoded data removed]",
      "text/plain": [
       "<Figure size 432x288 with 1 Axes>"
      ]
     },
     "metadata": {
      "needs_background": "light"
     },
     "output_type": "display_data"
    }
   ],
   "source": [
    "# Compare Algorithms\n",
    "plt.boxplot(results, labels=names)\n",
    "plt.title('Algorithm Comparison')\n",
    "plt.show()\n"
   ]
  },
  {
   "cell_type": "code",
   "execution_count": 60,
   "metadata": {},
   "outputs": [],
   "source": [
    "clf = LogisticRegression(solver='liblinear', multi_class='ovr').fit(x_train, y_train)"
   ]
  },
  {
   "cell_type": "code",
   "execution_count": 61,
   "metadata": {},
   "outputs": [
    {
     "name": "stdout",
     "output_type": "stream",
     "text": [
      "[[591  60]\n",
      " [ 44 572]]\n",
      "              precision    recall  f1-score   support\n",
      "\n",
      "        FAKE       0.93      0.91      0.92       651\n",
      "        REAL       0.91      0.93      0.92       616\n",
      "\n",
      "    accuracy                           0.92      1267\n",
      "   macro avg       0.92      0.92      0.92      1267\n",
      "weighted avg       0.92      0.92      0.92      1267\n",
      "\n"
     ]
    }
   ],
   "source": [
    "predicted = clf.predict(x_test)\n",
    "print(metrics.confusion_matrix(y_test, predicted))\n",
    "print(metrics.classification_report(y_test, predicted))"
   ]
  },
  {
   "cell_type": "code",
   "execution_count": null,
   "metadata": {},
   "outputs": [],
   "source": []
  }
 ],
 "metadata": {
  "kernelspec": {
   "display_name": "Python 3",
   "language": "python",
   "name": "python3"
  },
  "language_info": {
   "codemirror_mode": {
    "name": "ipython",
    "version": 3
   },
   "file_extension": ".py",
   "mimetype": "text/x-python",
   "name": "python",
   "nbconvert_exporter": "python",
   "pygments_lexer": "ipython3",
   "version": "3.7.4"
  }
 },
 "nbformat": 4,
 "nbformat_minor": 2
}
